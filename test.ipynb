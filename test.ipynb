{
 "cells": [
  {
   "cell_type": "code",
   "execution_count": 1,
   "id": "3428bafd",
   "metadata": {},
   "outputs": [
    {
     "name": "stdout",
     "output_type": "stream",
     "text": [
      "adsfh\n"
     ]
    }
   ],
   "source": [
    "print('adsfh')"
   ]
  },
  {
   "cell_type": "code",
   "execution_count": 2,
   "id": "a18df286",
   "metadata": {},
   "outputs": [],
   "source": [
    "b = 5"
   ]
  },
  {
   "cell_type": "code",
   "execution_count": 3,
   "id": "2dbbcac0",
   "metadata": {},
   "outputs": [],
   "source": [
    "a = f'gjitk yfit[ ljkj {b}'"
   ]
  },
  {
   "cell_type": "code",
   "execution_count": 4,
   "id": "9af8bb9c",
   "metadata": {},
   "outputs": [
    {
     "name": "stdout",
     "output_type": "stream",
     "text": [
      "5\n"
     ]
    }
   ],
   "source": [
    "print(b)"
   ]
  },
  {
   "cell_type": "code",
   "execution_count": 5,
   "id": "bf5497bc",
   "metadata": {},
   "outputs": [
    {
     "name": "stdout",
     "output_type": "stream",
     "text": [
      "gjitk yfit[ ljkj 5\n"
     ]
    }
   ],
   "source": [
    "print(a)"
   ]
  },
  {
   "cell_type": "code",
   "execution_count": 7,
   "id": "181ce9d7",
   "metadata": {},
   "outputs": [],
   "source": [
    "name = 'III'"
   ]
  },
  {
   "cell_type": "code",
   "execution_count": 11,
   "id": "00ce2ac8",
   "metadata": {},
   "outputs": [],
   "source": [
    "c = 'lasdkfja alsdfkjasdf {1}'.format(name, name)"
   ]
  },
  {
   "cell_type": "code",
   "execution_count": 13,
   "id": "ced2eff3",
   "metadata": {},
   "outputs": [],
   "source": [
    "d = 'dsfalsdfkjaldkj {name}'.format(name=name)"
   ]
  },
  {
   "cell_type": "code",
   "execution_count": 15,
   "id": "a0465adf",
   "metadata": {},
   "outputs": [],
   "source": [
    "e = 'lsadkjflkj %s' % name"
   ]
  },
  {
   "cell_type": "code",
   "execution_count": 16,
   "id": "a8964d58",
   "metadata": {},
   "outputs": [],
   "source": [
    "r = 2.234234234234"
   ]
  },
  {
   "cell_type": "code",
   "execution_count": 18,
   "id": "49bba69c",
   "metadata": {},
   "outputs": [
    {
     "name": "stdout",
     "output_type": "stream",
     "text": [
      "saldfasdf 2.23%.2f\n"
     ]
    }
   ],
   "source": [
    "print(f'saldfasdf {r:.2f}%.2f')"
   ]
  },
  {
   "cell_type": "code",
   "execution_count": null,
   "id": "73af7862",
   "metadata": {},
   "outputs": [],
   "source": []
  }
 ],
 "metadata": {
  "kernelspec": {
   "display_name": "venv",
   "language": "python",
   "name": "python3"
  },
  "language_info": {
   "codemirror_mode": {
    "name": "ipython",
    "version": 3
   },
   "file_extension": ".py",
   "mimetype": "text/x-python",
   "name": "python",
   "nbconvert_exporter": "python",
   "pygments_lexer": "ipython3",
   "version": "3.12.7"
  }
 },
 "nbformat": 4,
 "nbformat_minor": 5
}
