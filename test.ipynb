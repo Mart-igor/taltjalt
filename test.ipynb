{
 "cells": [
  {
   "cell_type": "code",
   "execution_count": 1,
   "id": "3428bafd",
   "metadata": {},
   "outputs": [
    {
     "name": "stdout",
     "output_type": "stream",
     "text": [
      "adsfh\n"
     ]
    }
   ],
   "source": [
    "print('adsfh')"
   ]
  },
  {
   "cell_type": "code",
   "execution_count": 2,
   "id": "a18df286",
   "metadata": {},
   "outputs": [],
   "source": [
    "b = 5"
   ]
  },
  {
   "cell_type": "code",
   "execution_count": 3,
   "id": "2dbbcac0",
   "metadata": {},
   "outputs": [],
   "source": [
    "a = f'gjitk yfit[ ljkj {b}'"
   ]
  },
  {
   "cell_type": "code",
   "execution_count": 4,
   "id": "9af8bb9c",
   "metadata": {},
   "outputs": [
    {
     "name": "stdout",
     "output_type": "stream",
     "text": [
      "5\n"
     ]
    }
   ],
   "source": [
    "print(b)"
   ]
  },
  {
   "cell_type": "code",
   "execution_count": 5,
   "id": "bf5497bc",
   "metadata": {},
   "outputs": [
    {
     "name": "stdout",
     "output_type": "stream",
     "text": [
      "gjitk yfit[ ljkj 5\n"
     ]
    }
   ],
   "source": [
    "print(a)"
   ]
  },
  {
   "cell_type": "code",
   "execution_count": 5,
   "id": "5a4e1a32",
   "metadata": {},
   "outputs": [],
   "source": [
    "f = '33'"
   ]
  },
  {
   "cell_type": "code",
   "execution_count": 7,
   "id": "181ce9d7",
   "metadata": {},
   "outputs": [
    {
     "data": {
      "text/plain": [
       "2193019135120"
      ]
     },
     "execution_count": 7,
     "metadata": {},
     "output_type": "execute_result"
    }
   ],
   "source": [
    "id(f)"
   ]
  },
  {
   "cell_type": "code",
   "execution_count": 8,
   "id": "3084a25c",
   "metadata": {},
   "outputs": [
    {
     "name": "stdout",
     "output_type": "stream",
     "text": [
      "2.23\n"
     ]
    }
   ],
   "source": [
    "a = 2.2322\n",
    "print(f'{a:.2f}')"
   ]
  },
  {
   "cell_type": "code",
   "execution_count": 11,
   "id": "00ce2ac8",
   "metadata": {},
   "outputs": [],
   "source": [
    "c = 'lasdkfja alsdfkjasdf {1}'.format(name, name)"
   ]
  },
  {
   "cell_type": "code",
   "execution_count": 10,
   "id": "37d26b4b",
   "metadata": {},
   "outputs": [
    {
     "name": "stdout",
     "output_type": "stream",
     "text": [
      "range(1, 4)\n"
     ]
    }
   ],
   "source": [
    "g = range(1, 4)\n",
    "print(g)"
   ]
  },
  {
   "cell_type": "code",
   "execution_count": 13,
   "id": "ced2eff3",
   "metadata": {},
   "outputs": [],
   "source": [
    "d = 'dsfalsdfkjaldkj {name}'.format(name=name)"
   ]
  },
  {
   "cell_type": "code",
   "execution_count": 12,
   "id": "d595153f",
   "metadata": {},
   "outputs": [
    {
     "name": "stdout",
     "output_type": "stream",
     "text": [
      "(1, 3)\n"
     ]
    }
   ],
   "source": [
    "a = (1, 3)\n",
    "print(a)"
   ]
  },
  {
   "cell_type": "code",
   "execution_count": 15,
   "id": "a0465adf",
   "metadata": {},
   "outputs": [],
   "source": [
    "e = 'lsadkjflkj %s' % name"
   ]
  },
  {
   "cell_type": "code",
   "execution_count": 16,
   "id": "a8964d58",
   "metadata": {},
   "outputs": [],
   "source": [
    "r = 2.234234234234"
   ]
  },
  {
   "cell_type": "code",
   "execution_count": 18,
   "id": "49bba69c",
   "metadata": {},
   "outputs": [
    {
     "name": "stdout",
     "output_type": "stream",
     "text": [
      "saldfasdf 2.23%.2f\n"
     ]
    }
   ],
   "source": [
    "print(f'saldfasdf {r:.2f}%.2f')"
   ]
  },
  {
   "cell_type": "code",
   "execution_count": 19,
   "id": "73af7862",
   "metadata": {},
   "outputs": [],
   "source": [
    "a = 23421412.3241234"
   ]
  },
  {
   "cell_type": "code",
   "execution_count": 24,
   "id": "fc3df36e",
   "metadata": {},
   "outputs": [],
   "source": [
    "b = round(a, 3)"
   ]
  },
  {
   "cell_type": "code",
   "execution_count": 25,
   "id": "aab32352",
   "metadata": {},
   "outputs": [
    {
     "name": "stdout",
     "output_type": "stream",
     "text": [
      "23421412.324\n"
     ]
    }
   ],
   "source": [
    "print(b)"
   ]
  },
  {
   "cell_type": "code",
   "execution_count": 26,
   "id": "7e678eba",
   "metadata": {},
   "outputs": [],
   "source": [
    "r = [3, 2, 4, 1, 4]"
   ]
  },
  {
   "cell_type": "code",
   "execution_count": 27,
   "id": "2bfec0d2",
   "metadata": {},
   "outputs": [],
   "source": [
    "s = slice(2, 6, 1)"
   ]
  },
  {
   "cell_type": "code",
   "execution_count": 28,
   "id": "b79995ef",
   "metadata": {},
   "outputs": [
    {
     "name": "stdout",
     "output_type": "stream",
     "text": [
      "[4, 1, 4]\n"
     ]
    }
   ],
   "source": [
    "print(r[s])"
   ]
  },
  {
   "cell_type": "code",
   "execution_count": 34,
   "id": "20669a9e",
   "metadata": {},
   "outputs": [
    {
     "name": "stdout",
     "output_type": "stream",
     "text": [
      "0 2\n",
      "1 3\n",
      "2 5\n",
      "3 6\n",
      "4 6\n",
      "5 7\n",
      "6 7\n"
     ]
    }
   ],
   "source": [
    "for i, j in  enumerate([2, 3, 5, 6, 6, 7, 7]):\n",
    "    print(i, j)"
   ]
  },
  {
   "cell_type": "code",
   "execution_count": null,
   "id": "606c6260",
   "metadata": {},
   "outputs": [],
   "source": [
    "def adf():\n",
    "    i = 0\n",
    "    while True:\n",
    "        print(i)\n",
    "        yield\n",
    "        i += 1\n",
    "        if i > 10:\n",
    "            break\n",
    "    return \n",
    "\n",
    "print(next(adf()))"
   ]
  },
  {
   "cell_type": "code",
   "execution_count": 45,
   "id": "1ae1b7e6",
   "metadata": {},
   "outputs": [
    {
     "name": "stdout",
     "output_type": "stream",
     "text": [
      "0\n"
     ]
    }
   ],
   "source": [
    "def adf():\n",
    "    i = 0\n",
    "    while i <= 10:  # Изменено условие на i <= 10, чтобы цикл завершался\n",
    "        yield i  # Возвращаем текущее значение i\n",
    "        i += 1  # Увеличиваем i на 1\n",
    "# Создаем генератор\n",
    "gen = adf()\n",
    "# Получаем значения из генератора\n",
    "\n",
    "print(next(gen))"
   ]
  },
  {
   "cell_type": "code",
   "execution_count": null,
   "id": "71f78e25",
   "metadata": {},
   "outputs": [],
   "source": [
    "def fi(name_file):\n",
    "    with open(name_file, 'r', encoding='UTF-8') as file_in:\n",
    "        for line in file_in:\n",
    "            yield line.strip()\n",
    "            "
   ]
  },
  {
   "cell_type": "code",
   "execution_count": 57,
   "id": "873173cd",
   "metadata": {},
   "outputs": [
    {
     "ename": "StopIteration",
     "evalue": "",
     "output_type": "error",
     "traceback": [
      "\u001b[31m---------------------------------------------------------------------------\u001b[39m",
      "\u001b[31mStopIteration\u001b[39m                             Traceback (most recent call last)",
      "\u001b[36mCell\u001b[39m\u001b[36m \u001b[39m\u001b[32mIn[57]\u001b[39m\u001b[32m, line 1\u001b[39m\n\u001b[32m----> \u001b[39m\u001b[32m1\u001b[39m \u001b[38;5;28mprint\u001b[39m(\u001b[38;5;28;43mnext\u001b[39;49m\u001b[43m(\u001b[49m\u001b[43mgen\u001b[49m\u001b[43m)\u001b[49m)\n",
      "\u001b[31mStopIteration\u001b[39m: "
     ]
    }
   ],
   "source": [
    "\n",
    "print(next(gen))"
   ]
  },
  {
   "cell_type": "code",
   "execution_count": 58,
   "id": "fcbaf2cf",
   "metadata": {},
   "outputs": [
    {
     "name": "stdout",
     "output_type": "stream",
     "text": [
      "<zip object at 0x0000018A3A15B100>\n"
     ]
    }
   ],
   "source": [
    "l = [1, 2, 4, 6, 7, 8]\n",
    "ll = ['a', 'd', 'c']\n",
    "\n",
    "print(zip(l, ll))"
   ]
  },
  {
   "cell_type": "code",
   "execution_count": 59,
   "id": "bd7d8f5c",
   "metadata": {},
   "outputs": [
    {
     "name": "stdout",
     "output_type": "stream",
     "text": [
      "(1, 'a')\n",
      "(2, 'd')\n",
      "(4, 'c')\n"
     ]
    }
   ],
   "source": [
    "for i in zip(l, ll):\n",
    "    print(i)"
   ]
  },
  {
   "cell_type": "code",
   "execution_count": 60,
   "id": "50308afc",
   "metadata": {},
   "outputs": [],
   "source": [
    "a = ['1', '2', '4', '3']\n",
    "b = map(lambda x: x ** 2, map(int, a))"
   ]
  },
  {
   "cell_type": "code",
   "execution_count": 61,
   "id": "5bfaec06",
   "metadata": {},
   "outputs": [
    {
     "name": "stdout",
     "output_type": "stream",
     "text": [
      "<map object at 0x0000018A39A71000>\n"
     ]
    }
   ],
   "source": [
    "print(b)"
   ]
  },
  {
   "cell_type": "code",
   "execution_count": 62,
   "id": "2054cc9c",
   "metadata": {},
   "outputs": [
    {
     "name": "stdout",
     "output_type": "stream",
     "text": [
      "[1, 4, 16, 9]\n"
     ]
    }
   ],
   "source": [
    "print(list(b))"
   ]
  },
  {
   "cell_type": "code",
   "execution_count": 63,
   "id": "59123483",
   "metadata": {},
   "outputs": [
    {
     "name": "stdout",
     "output_type": "stream",
     "text": [
      "[2, 4]\n"
     ]
    }
   ],
   "source": [
    "c = filter(lambda x: x % 2 == 0, map(int, a))\n",
    "print(list(c))"
   ]
  },
  {
   "cell_type": "code",
   "execution_count": 66,
   "id": "b8c53a65",
   "metadata": {},
   "outputs": [
    {
     "name": "stdout",
     "output_type": "stream",
     "text": [
      "140736581326240\n",
      "140736581326288\n",
      "140736581326192\n",
      "140736581326144\n"
     ]
    }
   ],
   "source": [
    "for num in reversed(a):\n",
    "    print(id(num))"
   ]
  },
  {
   "cell_type": "code",
   "execution_count": 67,
   "id": "952f8266",
   "metadata": {},
   "outputs": [
    {
     "name": "stdout",
     "output_type": "stream",
     "text": [
      "['1', '2', '3', '4']\n"
     ]
    }
   ],
   "source": [
    "print(sorted(a))"
   ]
  },
  {
   "cell_type": "code",
   "execution_count": 70,
   "id": "7faa83e6",
   "metadata": {},
   "outputs": [
    {
     "name": "stdout",
     "output_type": "stream",
     "text": [
      "True\n",
      "False\n"
     ]
    }
   ],
   "source": [
    "print(any(isinstance(x, str) for x in a))\n",
    "print(all(isinstance(x, int) for x in a))\n"
   ]
  },
  {
   "cell_type": "code",
   "execution_count": 71,
   "id": "fe36ebfe",
   "metadata": {},
   "outputs": [],
   "source": [
    "a = input()"
   ]
  },
  {
   "cell_type": "code",
   "execution_count": 72,
   "id": "bf825623",
   "metadata": {},
   "outputs": [
    {
     "name": "stdout",
     "output_type": "stream",
     "text": [
      "ljsdf\n"
     ]
    }
   ],
   "source": [
    "print(a)"
   ]
  },
  {
   "cell_type": "code",
   "execution_count": null,
   "id": "f14cc000",
   "metadata": {},
   "outputs": [],
   "source": []
  },
  {
   "cell_type": "code",
   "execution_count": 1,
   "id": "de749e3c",
   "metadata": {},
   "outputs": [
    {
     "name": "stdout",
     "output_type": "stream",
     "text": [
      "Введите данные (для завершения ввода нажмите Ctrl+D или Ctrl+Z):\n"
     ]
    },
    {
     "ename": "",
     "evalue": "",
     "output_type": "error",
     "traceback": [
      "\u001b[1;31mCannot execute code, session has been disposed. Please try restarting the Kernel."
     ]
    },
    {
     "ename": "",
     "evalue": "",
     "output_type": "error",
     "traceback": [
      "\u001b[1;31mCannot execute code, session has been disposed. Please try restarting the Kernel. \n",
      "\u001b[1;31mView Jupyter <a href='command:jupyter.viewOutput'>log</a> for further details."
     ]
    }
   ],
   "source": [
    "import sys\n",
    "print(\"Введите данные (для завершения ввода нажмите Ctrl+D или Ctrl+Z):\")\n",
    "data = sys.stdin.read()\n",
    "print(\"Вы ввели:\")\n",
    "print(data)"
   ]
  },
  {
   "cell_type": "code",
   "execution_count": 1,
   "id": "0cf6bda0",
   "metadata": {},
   "outputs": [
    {
     "ename": "NameError",
     "evalue": "name 'a' is not defined",
     "output_type": "error",
     "traceback": [
      "\u001b[31m---------------------------------------------------------------------------\u001b[39m",
      "\u001b[31mNameError\u001b[39m                                 Traceback (most recent call last)",
      "\u001b[36mCell\u001b[39m\u001b[36m \u001b[39m\u001b[32mIn[1]\u001b[39m\u001b[32m, line 1\u001b[39m\n\u001b[32m----> \u001b[39m\u001b[32m1\u001b[39m \u001b[38;5;28mtype\u001b[39m(\u001b[43ma\u001b[49m)\n",
      "\u001b[31mNameError\u001b[39m: name 'a' is not defined"
     ]
    }
   ],
   "source": [
    "type(a)"
   ]
  },
  {
   "cell_type": "code",
   "execution_count": 2,
   "id": "bb5e5517",
   "metadata": {},
   "outputs": [],
   "source": [
    "class Person:\n",
    "       def __init__(self, name, age):\n",
    "           self.name = name\n",
    "           self.age = age\n",
    "person = Person(\"Alice\", 30)"
   ]
  },
  {
   "cell_type": "code",
   "execution_count": 8,
   "id": "789d3ff7",
   "metadata": {},
   "outputs": [
    {
     "data": {
      "text/plain": [
       "['__class__',\n",
       " '__delattr__',\n",
       " '__dict__',\n",
       " '__dir__',\n",
       " '__doc__',\n",
       " '__eq__',\n",
       " '__format__',\n",
       " '__ge__',\n",
       " '__getattribute__',\n",
       " '__getstate__',\n",
       " '__gt__',\n",
       " '__hash__',\n",
       " '__init__',\n",
       " '__init_subclass__',\n",
       " '__le__',\n",
       " '__lt__',\n",
       " '__module__',\n",
       " '__ne__',\n",
       " '__new__',\n",
       " '__reduce__',\n",
       " '__reduce_ex__',\n",
       " '__repr__',\n",
       " '__setattr__',\n",
       " '__sizeof__',\n",
       " '__str__',\n",
       " '__subclasshook__',\n",
       " '__weakref__',\n",
       " 'age',\n",
       " 'name']"
      ]
     },
     "execution_count": 8,
     "metadata": {},
     "output_type": "execute_result"
    }
   ],
   "source": [
    "dir(person)"
   ]
  },
  {
   "cell_type": "code",
   "execution_count": 9,
   "id": "f3010343",
   "metadata": {},
   "outputs": [],
   "source": [
    "import os"
   ]
  },
  {
   "cell_type": "code",
   "execution_count": null,
   "id": "0394cbe2",
   "metadata": {},
   "outputs": [
    {
     "data": {
      "text/plain": [
       "['.git',\n",
       " '.gitignore',\n",
       " 'attr.md',\n",
       " 'map.md',\n",
       " 'methods.md',\n",
       " 'numpy.md',\n",
       " 'pandas.md',\n",
       " 'test.ipynb',\n",
       " 'torch.md',\n",
       " 'venv']"
      ]
     },
     "execution_count": 16,
     "metadata": {},
     "output_type": "execute_result"
    }
   ],
   "source": [
    "\n"
   ]
  },
  {
   "cell_type": "code",
   "execution_count": null,
   "id": "62f4961e",
   "metadata": {},
   "outputs": [],
   "source": []
  },
  {
   "cell_type": "code",
   "execution_count": null,
   "id": "cdd749f3",
   "metadata": {},
   "outputs": [],
   "source": []
  },
  {
   "cell_type": "code",
   "execution_count": null,
   "id": "4bcf05c0",
   "metadata": {},
   "outputs": [],
   "source": []
  }
 ],
 "metadata": {
  "kernelspec": {
   "display_name": "venv",
   "language": "python",
   "name": "python3"
  },
  "language_info": {
   "codemirror_mode": {
    "name": "ipython",
    "version": 3
   },
   "file_extension": ".py",
   "mimetype": "text/x-python",
   "name": "python",
   "nbconvert_exporter": "python",
   "pygments_lexer": "ipython3",
   "version": "3.12.7"
  }
 },
 "nbformat": 4,
 "nbformat_minor": 5
}
