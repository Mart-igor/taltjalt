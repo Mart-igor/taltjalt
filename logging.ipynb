{
 "cells": [
  {
   "cell_type": "markdown",
   "id": "0a23fdba",
   "metadata": {},
   "source": [
    "Модуль logging в Python — это мощный инструмент для логирования событий в приложениях. Он позволяет записывать сообщения разного уровня важности, настраивать их формат, выводить в консоль, файлы или даже отправлять по сети."
   ]
  },
  {
   "cell_type": "code",
   "execution_count": 1,
   "id": "46224809",
   "metadata": {},
   "outputs": [
    {
     "name": "stderr",
     "output_type": "stream",
     "text": [
      "WARNING:root:Внимание! Возможна проблема\n",
      "ERROR:root:Произошла ошибка\n",
      "CRITICAL:root:Критическая ошибка!\n"
     ]
    }
   ],
   "source": [
    "import logging\n",
    "\n",
    "logging.debug(\"Это отладочное сообщение\")    # Не выведется (уровень по умолчанию: WARNING)\n",
    "logging.info(\"Информационное сообщение\")     # Тоже не выведется\n",
    "logging.warning(\"Внимание! Возможна проблема\")  # Выведется\n",
    "logging.error(\"Произошла ошибка\")            # Выведется\n",
    "logging.critical(\"Критическая ошибка!\")      # Выведется"
   ]
  },
  {
   "cell_type": "code",
   "execution_count": 10,
   "id": "9669df41",
   "metadata": {},
   "outputs": [],
   "source": [
    "logging.basicConfig(\n",
    "    level=logging.DEBUG,          # Уровень логирования (DEBUG и выше)\n",
    "    filename=\"d:\\\\projects\\\\git_test\\\\app.log\",           # Запись в файл (не в консоль)\n",
    "    filemode=\"a\",                 # \"a\" (дописать) или \"w\" (перезаписать)\n",
    "    format=\"%(asctime)s - %(levelname)s - %(message)s\",  # Формат сообщения\n",
    "    datefmt=\"%d-%m-%Y %H:%M:%S\"   # Формат даты\n",
    ")\n",
    "\n",
    "try:\n",
    "    logging.info(\"Теперь это сохранится в файл app.log\")\n",
    "except Exception as e:\n",
    "    print(f\"Ошибка: {e}\")"
   ]
  },
  {
   "cell_type": "code",
   "execution_count": null,
   "id": "7209e38b",
   "metadata": {},
   "outputs": [
    {
     "name": "stdout",
     "output_type": "stream",
     "text": [
      "Текущая директория: d:\\projects\\git_test\n"
     ]
    }
   ],
   "source": [
    "import logging\n",
    "\n",
    "# Создаем логгер\n",
    "logger = logging.getLogger()\n",
    "logger.setLevel(logging.DEBUG)  # Минимальный уровень логирования\n",
    "\n",
    "# Форматтер для всех сообщений\n",
    "formatter = logging.Formatter(\n",
    "    \"%(asctime)s - %(levelname)s - %(message)s\",\n",
    "    datefmt=\"%d-%m-%Y %H:%M:%S\"\n",
    ")\n",
    "\n",
    "# Обработчик для ВСЕХ сообщений (пишет в app.log)\n",
    "all_handler = logging.FileHandler(\n",
    "    filename=\"d:\\\\projects\\\\git_test\\\\app.log\",\n",
    "    mode=\"a\",\n",
    "    encoding=\"utf-8\"\n",
    ")\n",
    "all_handler.setLevel(logging.DEBUG)  # Ловим DEBUG и выше\n",
    "all_handler.setFormatter(formatter)\n",
    "\n",
    "# Обработчик только для ERROR (пишет в app_errors.log)\n",
    "error_handler = logging.FileHandler(\n",
    "    filename=\"d:\\\\projects\\\\git_test\\\\app_errors.log\",\n",
    "    mode=\"a\",\n",
    "    encoding=\"utf-8\"\n",
    ")\n",
    "error_handler.setLevel(logging.ERROR)  # Только ERROR и CRITICAL\n",
    "error_handler.setFormatter(formatter)\n",
    "\n",
    "# Добавляем обработчики к логгеру\n",
    "logger.addHandler(all_handler)\n",
    "logger.addHandler(error_handler)\n",
    "\n",
    "# Пример использования\n",
    "try:\n",
    "    logger.debug(\"Отладочное сообщение\")  # Попадет только в app.log\n",
    "    logger.info(\"Информационное сообщение\")  # Попадет только в app.log\n",
    "    logger.warning(\"Предупреждение\")  # Попадет только в app.log\n",
    "    logger.error(\"Ошибка!\")  # Попадет в app.log И app_errors.log\n",
    "    logger.critical(\"Критическая ошибка!\")  # Попадет в app.log И app_errors.log\n",
    "except Exception as e:\n",
    "    print(f\"Ошибка: {e}\")\n"
   ]
  },
  {
   "cell_type": "code",
   "execution_count": null,
   "id": "7f8c3e7a",
   "metadata": {},
   "outputs": [],
   "source": [
    "console_handler = logging.StreamHandler()\n",
    "console_handler.setLevel(logging.INFO)  # Выводим INFO и выше\n",
    "console_handler.setFormatter(formatter)\n",
    "logger.addHandler(console_handler)"
   ]
  },
  {
   "cell_type": "code",
   "execution_count": null,
   "id": "bd8b3822",
   "metadata": {},
   "outputs": [],
   "source": [
    "from logging.handlers import RotatingFileHandler\n",
    "\n",
    "all_handler = RotatingFileHandler(\n",
    "    filename=\"d:\\\\projects\\\\git_test\\\\app.log\",\n",
    "    maxBytes=5 * 1024 * 1024,  # 5 MB\n",
    "    backupCount=3  # Хранить 3 архивных файла\n",
    ")"
   ]
  },
  {
   "cell_type": "code",
   "execution_count": 11,
   "id": "da05c265",
   "metadata": {},
   "outputs": [],
   "source": [
    "import collections\n"
   ]
  },
  {
   "cell_type": "code",
   "execution_count": 12,
   "id": "0b35c3df",
   "metadata": {},
   "outputs": [],
   "source": [
    "from queue import deque"
   ]
  },
  {
   "cell_type": "code",
   "execution_count": 13,
   "id": "a56b6cb0",
   "metadata": {},
   "outputs": [],
   "source": [
    "from collections import deque"
   ]
  },
  {
   "cell_type": "code",
   "execution_count": null,
   "id": "d9e5e9c1",
   "metadata": {},
   "outputs": [],
   "source": []
  }
 ],
 "metadata": {
  "kernelspec": {
   "display_name": "venv",
   "language": "python",
   "name": "python3"
  },
  "language_info": {
   "codemirror_mode": {
    "name": "ipython",
    "version": 3
   },
   "file_extension": ".py",
   "mimetype": "text/x-python",
   "name": "python",
   "nbconvert_exporter": "python",
   "pygments_lexer": "ipython3",
   "version": "3.12.7"
  }
 },
 "nbformat": 4,
 "nbformat_minor": 5
}
