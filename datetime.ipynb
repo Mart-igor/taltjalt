{
 "cells": [
  {
   "cell_type": "code",
   "execution_count": 1,
   "id": "ef416f5c",
   "metadata": {},
   "outputs": [],
   "source": [
    "# Когда использовать datetime?\n",
    "# Для работы с датами и временем в приложениях.\n",
    "\n",
    "# Для вычисления разницы между датами (timedelta).\n",
    "\n",
    "# Для форматирования дат в строки (strftime).\n",
    "\n",
    "# Для конвертации между часовыми поясами (zoneinfo)"
   ]
  },
  {
   "cell_type": "code",
   "execution_count": 3,
   "id": "416eeffd",
   "metadata": {},
   "outputs": [],
   "source": [
    "import datetime\n",
    "from datetime import date"
   ]
  },
  {
   "cell_type": "code",
   "execution_count": 9,
   "id": "32c6a02a",
   "metadata": {},
   "outputs": [
    {
     "data": {
      "text/plain": [
       "2025"
      ]
     },
     "execution_count": 9,
     "metadata": {},
     "output_type": "execute_result"
    }
   ],
   "source": [
    "today = date.today()\n",
    "today.year"
   ]
  },
  {
   "cell_type": "code",
   "execution_count": 12,
   "id": "c888106a",
   "metadata": {},
   "outputs": [
    {
     "data": {
      "text/plain": [
       "datetime.time(0, 0)"
      ]
     },
     "execution_count": 12,
     "metadata": {},
     "output_type": "execute_result"
    }
   ],
   "source": [
    "datetime.time()"
   ]
  },
  {
   "cell_type": "code",
   "execution_count": null,
   "id": "4e2fcc58",
   "metadata": {},
   "outputs": [
    {
     "data": {
      "text/plain": [
       "datetime.datetime(2025, 5, 14, 15, 2, 3, 979764)"
      ]
     },
     "execution_count": 20,
     "metadata": {},
     "output_type": "execute_result"
    }
   ],
   "source": [
    "from datetime import datetime\n",
    "datetime.now()"
   ]
  },
  {
   "cell_type": "code",
   "execution_count": null,
   "id": "25b8acbe",
   "metadata": {},
   "outputs": [],
   "source": [
    "custom = datetime()"
   ]
  },
  {
   "cell_type": "code",
   "execution_count": null,
   "id": "dcbcfce6",
   "metadata": {},
   "outputs": [],
   "source": [
    "# strftime() – преобразование даты в строку\n",
    "now.strftime(\"%d.%m.%Y %H:%M:%S\")\n",
    "# strptime() – парсинг строки в дату\n",
    "date_str = \"14.05.2025\"\n",
    "datetime.strptime(date_str, \"%d.%m.%Y\")"
   ]
  },
  {
   "cell_type": "code",
   "execution_count": null,
   "id": "2958865c",
   "metadata": {},
   "outputs": [],
   "source": [
    "from zoneinfo import ZoneInfo\n",
    "datetime.now(ZoneInfo(\"UTC\"))"
   ]
  },
  {
   "cell_type": "code",
   "execution_count": 30,
   "id": "c989d003",
   "metadata": {},
   "outputs": [
    {
     "ename": "AttributeError",
     "evalue": "'builtin_function_or_method' object has no attribute 'weekday'",
     "output_type": "error",
     "traceback": [
      "\u001b[31m---------------------------------------------------------------------------\u001b[39m",
      "\u001b[31mAttributeError\u001b[39m                            Traceback (most recent call last)",
      "\u001b[36mCell\u001b[39m\u001b[36m \u001b[39m\u001b[32mIn[30]\u001b[39m\u001b[32m, line 1\u001b[39m\n\u001b[32m----> \u001b[39m\u001b[32m1\u001b[39m \u001b[43mdatetime\u001b[49m\u001b[43m.\u001b[49m\u001b[43mnow\u001b[49m\u001b[43m.\u001b[49m\u001b[43mweekday\u001b[49m()\n",
      "\u001b[31mAttributeError\u001b[39m: 'builtin_function_or_method' object has no attribute 'weekday'"
     ]
    }
   ],
   "source": [
    "datetime.now.weekday()"
   ]
  },
  {
   "cell_type": "code",
   "execution_count": null,
   "id": "3e45b361",
   "metadata": {},
   "outputs": [],
   "source": []
  }
 ],
 "metadata": {
  "kernelspec": {
   "display_name": "venv",
   "language": "python",
   "name": "python3"
  },
  "language_info": {
   "codemirror_mode": {
    "name": "ipython",
    "version": 3
   },
   "file_extension": ".py",
   "mimetype": "text/x-python",
   "name": "python",
   "nbconvert_exporter": "python",
   "pygments_lexer": "ipython3",
   "version": "3.12.7"
  }
 },
 "nbformat": 4,
 "nbformat_minor": 5
}
