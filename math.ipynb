{
 "cells": [
  {
   "cell_type": "code",
   "execution_count": null,
   "id": "5dbf4757",
   "metadata": {},
   "outputs": [],
   "source": [
    "# Когда использовать math?\n",
    "# Для сложных математических вычислений (тригонометрия, логарифмы).\n",
    "\n",
    "# Для работы с константами (π, e).\n",
    "\n",
    "# Для оптимизации вычислений (например, math.sqrt быстрее x ** 0.5).\n",
    "\n",
    "# Для комбинаторики (factorial, comb, perm)."
   ]
  },
  {
   "cell_type": "code",
   "execution_count": 1,
   "id": "1aed6b0d",
   "metadata": {},
   "outputs": [],
   "source": [
    "import math"
   ]
  },
  {
   "cell_type": "code",
   "execution_count": null,
   "id": "0882a75d",
   "metadata": {},
   "outputs": [],
   "source": [
    "math.e\n",
    "math.pi\n",
    "math.inf\n",
    "math.isnan(math.nan)"
   ]
  },
  {
   "cell_type": "code",
   "execution_count": null,
   "id": "80774cd8",
   "metadata": {},
   "outputs": [],
   "source": [
    "math.ceil()\n",
    "math.floor()\n",
    "math.trunc()\n",
    "math.isclose(a, b, rel_tol=1)\n",
    "math.isfinite(x)"
   ]
  },
  {
   "cell_type": "code",
   "execution_count": null,
   "id": "20770c3d",
   "metadata": {},
   "outputs": [],
   "source": [
    "math.sqrt()\n",
    "math.exp()\n",
    "math.log(x, base)"
   ]
  },
  {
   "cell_type": "code",
   "execution_count": null,
   "id": "69bee89a",
   "metadata": {},
   "outputs": [],
   "source": [
    "math.sin()"
   ]
  },
  {
   "cell_type": "code",
   "execution_count": null,
   "id": "0b8ef4b2",
   "metadata": {},
   "outputs": [],
   "source": [
    "math.factorial\n",
    "math.comb(n, k)\n",
    "math.perm(n, k)"
   ]
  },
  {
   "cell_type": "code",
   "execution_count": null,
   "id": "492b209d",
   "metadata": {},
   "outputs": [],
   "source": [
    "math.gcd(a, b)\n"
   ]
  },
  {
   "cell_type": "code",
   "execution_count": null,
   "id": "a4daa81d",
   "metadata": {},
   "outputs": [],
   "source": [
    "math.prod([1,4,6, 3])"
   ]
  }
 ],
 "metadata": {
  "kernelspec": {
   "display_name": "venv",
   "language": "python",
   "name": "python3"
  },
  "language_info": {
   "codemirror_mode": {
    "name": "ipython",
    "version": 3
   },
   "file_extension": ".py",
   "mimetype": "text/x-python",
   "name": "python",
   "nbconvert_exporter": "python",
   "pygments_lexer": "ipython3",
   "version": "3.12.7"
  }
 },
 "nbformat": 4,
 "nbformat_minor": 5
}
