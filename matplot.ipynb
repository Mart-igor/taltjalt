{
 "cells": [
  {
   "cell_type": "code",
   "execution_count": null,
   "id": "a9e71c5e",
   "metadata": {},
   "outputs": [
    {
     "name": "stdout",
     "output_type": "stream",
     "text": [
      "Файл user_activity.csv успешно создан\n"
     ]
    }
   ],
   "source": [
    "import csv\n",
    "import random\n",
    "from datetime import datetime, timedelta\n",
    "\n",
    "# Настройки генерации\n",
    "RECORDS_COUNT = 100  # Количество записей\n",
    "USERS_COUNT = 10     # Количество уникальных пользователей\n",
    "START_DATE = datetime(2024, 1, 1)\n",
    "END_DATE = datetime(2024, 12, 31)\n",
    "\n",
    "data = []\n",
    "for _ in range(RECORDS_COUNT):\n",
    "    user_id = random.randint(1, USERS_COUNT)\n",
    "    date = START_DATE + timedelta(days=random.randint(0, (END_DATE - START_DATE).days))\n",
    "    session_duration = random.randint(1, 120) \n",
    "    actions = random.randint(1, 50)        \n",
    "    \n",
    "    data.append([\n",
    "        user_id,\n",
    "        date.strftime(\"%Y-%m-%d\"),\n",
    "        session_duration,\n",
    "        actions\n",
    "    ])\n",
    "\n",
    "\n",
    "with open('user_activity.csv', 'w', newline='', encoding='utf-8') as file:\n",
    "    writer = csv.writer(file)\n",
    "    writer.writerow(['user_id', 'date', 'session_duration', 'actions'])  \n",
    "    writer.writerows(data)\n",
    "\n",
    "print(\"Файл user_activity.csv успешно создан\")"
   ]
  },
  {
   "cell_type": "code",
   "execution_count": 1,
   "id": "635ddad0",
   "metadata": {},
   "outputs": [],
   "source": [
    "import pandas as pd"
   ]
  },
  {
   "cell_type": "code",
   "execution_count": 11,
   "id": "cd900642",
   "metadata": {},
   "outputs": [
    {
     "data": {
      "application/vnd.microsoft.datawrangler.viewer.v0+json": {
       "columns": [
        {
         "name": "index",
         "rawType": "int64",
         "type": "integer"
        },
        {
         "name": "user_id",
         "rawType": "int64",
         "type": "integer"
        },
        {
         "name": "date",
         "rawType": "object",
         "type": "string"
        },
        {
         "name": "session_duration",
         "rawType": "int64",
         "type": "integer"
        },
        {
         "name": "actions",
         "rawType": "int64",
         "type": "integer"
        }
       ],
       "conversionMethod": "pd.DataFrame",
       "ref": "209961e3-d8e5-43f6-9f2e-2d9576f60cdf",
       "rows": [
        [
         "0",
         "7",
         "2024-06-10",
         "63",
         "45"
        ],
        [
         "1",
         "5",
         "2024-01-18",
         "80",
         "31"
        ],
        [
         "2",
         "7",
         "2024-10-28",
         "98",
         "27"
        ],
        [
         "3",
         "5",
         "2024-12-05",
         "65",
         "48"
        ],
        [
         "4",
         "10",
         "2024-08-26",
         "108",
         "12"
        ]
       ],
       "shape": {
        "columns": 4,
        "rows": 5
       }
      },
      "text/html": [
       "<div>\n",
       "<style scoped>\n",
       "    .dataframe tbody tr th:only-of-type {\n",
       "        vertical-align: middle;\n",
       "    }\n",
       "\n",
       "    .dataframe tbody tr th {\n",
       "        vertical-align: top;\n",
       "    }\n",
       "\n",
       "    .dataframe thead th {\n",
       "        text-align: right;\n",
       "    }\n",
       "</style>\n",
       "<table border=\"1\" class=\"dataframe\">\n",
       "  <thead>\n",
       "    <tr style=\"text-align: right;\">\n",
       "      <th></th>\n",
       "      <th>user_id</th>\n",
       "      <th>date</th>\n",
       "      <th>session_duration</th>\n",
       "      <th>actions</th>\n",
       "    </tr>\n",
       "  </thead>\n",
       "  <tbody>\n",
       "    <tr>\n",
       "      <th>0</th>\n",
       "      <td>7</td>\n",
       "      <td>2024-06-10</td>\n",
       "      <td>63</td>\n",
       "      <td>45</td>\n",
       "    </tr>\n",
       "    <tr>\n",
       "      <th>1</th>\n",
       "      <td>5</td>\n",
       "      <td>2024-01-18</td>\n",
       "      <td>80</td>\n",
       "      <td>31</td>\n",
       "    </tr>\n",
       "    <tr>\n",
       "      <th>2</th>\n",
       "      <td>7</td>\n",
       "      <td>2024-10-28</td>\n",
       "      <td>98</td>\n",
       "      <td>27</td>\n",
       "    </tr>\n",
       "    <tr>\n",
       "      <th>3</th>\n",
       "      <td>5</td>\n",
       "      <td>2024-12-05</td>\n",
       "      <td>65</td>\n",
       "      <td>48</td>\n",
       "    </tr>\n",
       "    <tr>\n",
       "      <th>4</th>\n",
       "      <td>10</td>\n",
       "      <td>2024-08-26</td>\n",
       "      <td>108</td>\n",
       "      <td>12</td>\n",
       "    </tr>\n",
       "  </tbody>\n",
       "</table>\n",
       "</div>"
      ],
      "text/plain": [
       "   user_id        date  session_duration  actions\n",
       "0        7  2024-06-10                63       45\n",
       "1        5  2024-01-18                80       31\n",
       "2        7  2024-10-28                98       27\n",
       "3        5  2024-12-05                65       48\n",
       "4       10  2024-08-26               108       12"
      ]
     },
     "execution_count": 11,
     "metadata": {},
     "output_type": "execute_result"
    }
   ],
   "source": [
    "df = pd.read_csv('user_activity.csv')\n",
    "df.head()"
   ]
  },
  {
   "cell_type": "code",
   "execution_count": 12,
   "id": "88922ad3",
   "metadata": {},
   "outputs": [
    {
     "data": {
      "text/plain": [
       "0     2024-06-10\n",
       "1     2024-01-18\n",
       "2     2024-10-28\n",
       "3     2024-12-05\n",
       "4     2024-08-26\n",
       "         ...    \n",
       "95    2024-07-25\n",
       "96    2024-11-11\n",
       "97    2024-02-13\n",
       "98    2024-06-20\n",
       "99    2024-04-13\n",
       "Name: date, Length: 100, dtype: object"
      ]
     },
     "execution_count": 12,
     "metadata": {},
     "output_type": "execute_result"
    }
   ],
   "source": [
    "df['date']"
   ]
  },
  {
   "cell_type": "code",
   "execution_count": 13,
   "id": "8f4088f6",
   "metadata": {},
   "outputs": [],
   "source": [
    "df['date'] = pd.to_datetime(df['date'])"
   ]
  },
  {
   "cell_type": "code",
   "execution_count": 14,
   "id": "9c06f357",
   "metadata": {},
   "outputs": [
    {
     "data": {
      "text/plain": [
       "0    2024-06-10\n",
       "1    2024-01-18\n",
       "2    2024-10-28\n",
       "3    2024-12-05\n",
       "4    2024-08-26\n",
       "        ...    \n",
       "95   2024-07-25\n",
       "96   2024-11-11\n",
       "97   2024-02-13\n",
       "98   2024-06-20\n",
       "99   2024-04-13\n",
       "Name: date, Length: 100, dtype: datetime64[ns]"
      ]
     },
     "execution_count": 14,
     "metadata": {},
     "output_type": "execute_result"
    }
   ],
   "source": [
    "df['date']"
   ]
  },
  {
   "cell_type": "code",
   "execution_count": 15,
   "id": "a989743b",
   "metadata": {},
   "outputs": [],
   "source": [
    "last_months = df['date'].iloc[-1] - pd.DateOffset(months=1)\n",
    "df = df[df['date'] >= last_months]"
   ]
  },
  {
   "cell_type": "code",
   "execution_count": 16,
   "id": "19e1f6f8",
   "metadata": {},
   "outputs": [
    {
     "data": {
      "application/vnd.microsoft.datawrangler.viewer.v0+json": {
       "columns": [
        {
         "name": "index",
         "rawType": "int64",
         "type": "integer"
        },
        {
         "name": "user_id",
         "rawType": "int64",
         "type": "integer"
        },
        {
         "name": "date",
         "rawType": "datetime64[ns]",
         "type": "datetime"
        },
        {
         "name": "session_duration",
         "rawType": "int64",
         "type": "integer"
        },
        {
         "name": "actions",
         "rawType": "int64",
         "type": "integer"
        }
       ],
       "conversionMethod": "pd.DataFrame",
       "ref": "4dc33e79-73e4-4171-800c-c9e5bba315c8",
       "rows": [
        [
         "0",
         "7",
         "2024-06-10 00:00:00",
         "63",
         "45"
        ],
        [
         "2",
         "7",
         "2024-10-28 00:00:00",
         "98",
         "27"
        ],
        [
         "3",
         "5",
         "2024-12-05 00:00:00",
         "65",
         "48"
        ],
        [
         "4",
         "10",
         "2024-08-26 00:00:00",
         "108",
         "12"
        ],
        [
         "5",
         "7",
         "2024-05-15 00:00:00",
         "61",
         "44"
        ],
        [
         "6",
         "4",
         "2024-08-24 00:00:00",
         "49",
         "9"
        ],
        [
         "7",
         "10",
         "2024-04-24 00:00:00",
         "14",
         "41"
        ],
        [
         "9",
         "1",
         "2024-06-15 00:00:00",
         "67",
         "9"
        ],
        [
         "10",
         "8",
         "2024-11-16 00:00:00",
         "71",
         "29"
        ],
        [
         "11",
         "3",
         "2024-06-06 00:00:00",
         "24",
         "25"
        ],
        [
         "12",
         "10",
         "2024-11-08 00:00:00",
         "26",
         "10"
        ],
        [
         "13",
         "6",
         "2024-09-13 00:00:00",
         "44",
         "16"
        ],
        [
         "14",
         "8",
         "2024-04-10 00:00:00",
         "56",
         "10"
        ],
        [
         "16",
         "6",
         "2024-12-12 00:00:00",
         "67",
         "40"
        ],
        [
         "17",
         "2",
         "2024-05-08 00:00:00",
         "52",
         "15"
        ],
        [
         "18",
         "3",
         "2024-07-01 00:00:00",
         "79",
         "39"
        ],
        [
         "20",
         "7",
         "2024-06-21 00:00:00",
         "95",
         "25"
        ],
        [
         "21",
         "9",
         "2024-10-29 00:00:00",
         "69",
         "5"
        ],
        [
         "22",
         "10",
         "2024-06-06 00:00:00",
         "80",
         "7"
        ],
        [
         "23",
         "3",
         "2024-08-18 00:00:00",
         "110",
         "27"
        ],
        [
         "24",
         "3",
         "2024-03-18 00:00:00",
         "109",
         "39"
        ],
        [
         "25",
         "9",
         "2024-10-20 00:00:00",
         "99",
         "44"
        ],
        [
         "26",
         "3",
         "2024-08-05 00:00:00",
         "22",
         "49"
        ],
        [
         "27",
         "8",
         "2024-10-27 00:00:00",
         "54",
         "19"
        ],
        [
         "28",
         "1",
         "2024-07-31 00:00:00",
         "101",
         "8"
        ],
        [
         "29",
         "8",
         "2024-09-09 00:00:00",
         "80",
         "11"
        ],
        [
         "30",
         "7",
         "2024-03-21 00:00:00",
         "33",
         "1"
        ],
        [
         "31",
         "1",
         "2024-09-02 00:00:00",
         "116",
         "7"
        ],
        [
         "32",
         "4",
         "2024-05-26 00:00:00",
         "21",
         "10"
        ],
        [
         "33",
         "2",
         "2024-07-16 00:00:00",
         "27",
         "27"
        ],
        [
         "34",
         "1",
         "2024-09-04 00:00:00",
         "23",
         "42"
        ],
        [
         "37",
         "2",
         "2024-03-15 00:00:00",
         "106",
         "25"
        ],
        [
         "38",
         "3",
         "2024-07-08 00:00:00",
         "40",
         "21"
        ],
        [
         "39",
         "7",
         "2024-12-28 00:00:00",
         "50",
         "21"
        ],
        [
         "40",
         "8",
         "2024-10-23 00:00:00",
         "57",
         "24"
        ],
        [
         "41",
         "7",
         "2024-08-03 00:00:00",
         "10",
         "32"
        ],
        [
         "44",
         "4",
         "2024-09-04 00:00:00",
         "22",
         "26"
        ],
        [
         "47",
         "2",
         "2024-10-20 00:00:00",
         "54",
         "38"
        ],
        [
         "48",
         "3",
         "2024-11-27 00:00:00",
         "76",
         "31"
        ],
        [
         "49",
         "8",
         "2024-12-10 00:00:00",
         "92",
         "25"
        ],
        [
         "51",
         "2",
         "2024-09-05 00:00:00",
         "81",
         "40"
        ],
        [
         "52",
         "2",
         "2024-09-17 00:00:00",
         "47",
         "40"
        ],
        [
         "53",
         "3",
         "2024-09-07 00:00:00",
         "90",
         "41"
        ],
        [
         "54",
         "7",
         "2024-03-13 00:00:00",
         "4",
         "26"
        ],
        [
         "56",
         "3",
         "2024-08-24 00:00:00",
         "90",
         "7"
        ],
        [
         "58",
         "8",
         "2024-04-28 00:00:00",
         "115",
         "7"
        ],
        [
         "59",
         "1",
         "2024-07-28 00:00:00",
         "31",
         "23"
        ],
        [
         "63",
         "7",
         "2024-10-16 00:00:00",
         "13",
         "22"
        ],
        [
         "64",
         "2",
         "2024-07-08 00:00:00",
         "105",
         "24"
        ],
        [
         "65",
         "4",
         "2024-05-12 00:00:00",
         "77",
         "20"
        ]
       ],
       "shape": {
        "columns": 4,
        "rows": 77
       }
      },
      "text/html": [
       "<div>\n",
       "<style scoped>\n",
       "    .dataframe tbody tr th:only-of-type {\n",
       "        vertical-align: middle;\n",
       "    }\n",
       "\n",
       "    .dataframe tbody tr th {\n",
       "        vertical-align: top;\n",
       "    }\n",
       "\n",
       "    .dataframe thead th {\n",
       "        text-align: right;\n",
       "    }\n",
       "</style>\n",
       "<table border=\"1\" class=\"dataframe\">\n",
       "  <thead>\n",
       "    <tr style=\"text-align: right;\">\n",
       "      <th></th>\n",
       "      <th>user_id</th>\n",
       "      <th>date</th>\n",
       "      <th>session_duration</th>\n",
       "      <th>actions</th>\n",
       "    </tr>\n",
       "  </thead>\n",
       "  <tbody>\n",
       "    <tr>\n",
       "      <th>0</th>\n",
       "      <td>7</td>\n",
       "      <td>2024-06-10</td>\n",
       "      <td>63</td>\n",
       "      <td>45</td>\n",
       "    </tr>\n",
       "    <tr>\n",
       "      <th>2</th>\n",
       "      <td>7</td>\n",
       "      <td>2024-10-28</td>\n",
       "      <td>98</td>\n",
       "      <td>27</td>\n",
       "    </tr>\n",
       "    <tr>\n",
       "      <th>3</th>\n",
       "      <td>5</td>\n",
       "      <td>2024-12-05</td>\n",
       "      <td>65</td>\n",
       "      <td>48</td>\n",
       "    </tr>\n",
       "    <tr>\n",
       "      <th>4</th>\n",
       "      <td>10</td>\n",
       "      <td>2024-08-26</td>\n",
       "      <td>108</td>\n",
       "      <td>12</td>\n",
       "    </tr>\n",
       "    <tr>\n",
       "      <th>5</th>\n",
       "      <td>7</td>\n",
       "      <td>2024-05-15</td>\n",
       "      <td>61</td>\n",
       "      <td>44</td>\n",
       "    </tr>\n",
       "    <tr>\n",
       "      <th>...</th>\n",
       "      <td>...</td>\n",
       "      <td>...</td>\n",
       "      <td>...</td>\n",
       "      <td>...</td>\n",
       "    </tr>\n",
       "    <tr>\n",
       "      <th>94</th>\n",
       "      <td>4</td>\n",
       "      <td>2024-04-12</td>\n",
       "      <td>58</td>\n",
       "      <td>15</td>\n",
       "    </tr>\n",
       "    <tr>\n",
       "      <th>95</th>\n",
       "      <td>6</td>\n",
       "      <td>2024-07-25</td>\n",
       "      <td>49</td>\n",
       "      <td>13</td>\n",
       "    </tr>\n",
       "    <tr>\n",
       "      <th>96</th>\n",
       "      <td>4</td>\n",
       "      <td>2024-11-11</td>\n",
       "      <td>108</td>\n",
       "      <td>20</td>\n",
       "    </tr>\n",
       "    <tr>\n",
       "      <th>98</th>\n",
       "      <td>3</td>\n",
       "      <td>2024-06-20</td>\n",
       "      <td>50</td>\n",
       "      <td>25</td>\n",
       "    </tr>\n",
       "    <tr>\n",
       "      <th>99</th>\n",
       "      <td>6</td>\n",
       "      <td>2024-04-13</td>\n",
       "      <td>63</td>\n",
       "      <td>5</td>\n",
       "    </tr>\n",
       "  </tbody>\n",
       "</table>\n",
       "<p>77 rows × 4 columns</p>\n",
       "</div>"
      ],
      "text/plain": [
       "    user_id       date  session_duration  actions\n",
       "0         7 2024-06-10                63       45\n",
       "2         7 2024-10-28                98       27\n",
       "3         5 2024-12-05                65       48\n",
       "4        10 2024-08-26               108       12\n",
       "5         7 2024-05-15                61       44\n",
       "..      ...        ...               ...      ...\n",
       "94        4 2024-04-12                58       15\n",
       "95        6 2024-07-25                49       13\n",
       "96        4 2024-11-11               108       20\n",
       "98        3 2024-06-20                50       25\n",
       "99        6 2024-04-13                63        5\n",
       "\n",
       "[77 rows x 4 columns]"
      ]
     },
     "execution_count": 16,
     "metadata": {},
     "output_type": "execute_result"
    }
   ],
   "source": [
    "df"
   ]
  },
  {
   "cell_type": "code",
   "execution_count": 20,
   "id": "933e4291",
   "metadata": {},
   "outputs": [
    {
     "data": {
      "application/vnd.microsoft.datawrangler.viewer.v0+json": {
       "columns": [
        {
         "name": "index",
         "rawType": "int64",
         "type": "integer"
        },
        {
         "name": "date",
         "rawType": "datetime64[ns]",
         "type": "datetime"
        },
        {
         "name": "avg_duration",
         "rawType": "float64",
         "type": "float"
        },
        {
         "name": "unique_users",
         "rawType": "int64",
         "type": "integer"
        }
       ],
       "conversionMethod": "pd.DataFrame",
       "ref": "34860768-1084-4181-ae91-7dc6d3a480e6",
       "rows": [
        [
         "0",
         "2024-03-13 00:00:00",
         "4.0",
         "1"
        ],
        [
         "1",
         "2024-03-14 00:00:00",
         "87.0",
         "1"
        ],
        [
         "2",
         "2024-03-15 00:00:00",
         "106.0",
         "1"
        ],
        [
         "3",
         "2024-03-18 00:00:00",
         "109.0",
         "1"
        ],
        [
         "4",
         "2024-03-21 00:00:00",
         "33.0",
         "1"
        ],
        [
         "5",
         "2024-03-27 00:00:00",
         "86.0",
         "1"
        ],
        [
         "6",
         "2024-04-06 00:00:00",
         "88.0",
         "1"
        ],
        [
         "7",
         "2024-04-10 00:00:00",
         "56.0",
         "1"
        ],
        [
         "8",
         "2024-04-12 00:00:00",
         "58.0",
         "1"
        ],
        [
         "9",
         "2024-04-13 00:00:00",
         "63.0",
         "1"
        ],
        [
         "10",
         "2024-04-24 00:00:00",
         "14.0",
         "1"
        ],
        [
         "11",
         "2024-04-28 00:00:00",
         "115.0",
         "1"
        ],
        [
         "12",
         "2024-05-08 00:00:00",
         "52.0",
         "1"
        ],
        [
         "13",
         "2024-05-12 00:00:00",
         "77.0",
         "1"
        ],
        [
         "14",
         "2024-05-15 00:00:00",
         "61.0",
         "1"
        ],
        [
         "15",
         "2024-05-26 00:00:00",
         "21.0",
         "1"
        ],
        [
         "16",
         "2024-06-06 00:00:00",
         "52.0",
         "2"
        ],
        [
         "17",
         "2024-06-10 00:00:00",
         "63.0",
         "1"
        ],
        [
         "18",
         "2024-06-15 00:00:00",
         "67.0",
         "1"
        ],
        [
         "19",
         "2024-06-16 00:00:00",
         "111.0",
         "1"
        ],
        [
         "20",
         "2024-06-20 00:00:00",
         "50.0",
         "1"
        ],
        [
         "21",
         "2024-06-21 00:00:00",
         "95.0",
         "1"
        ],
        [
         "22",
         "2024-07-01 00:00:00",
         "79.0",
         "1"
        ],
        [
         "23",
         "2024-07-08 00:00:00",
         "72.5",
         "2"
        ],
        [
         "24",
         "2024-07-16 00:00:00",
         "27.0",
         "1"
        ],
        [
         "25",
         "2024-07-25 00:00:00",
         "49.0",
         "1"
        ],
        [
         "26",
         "2024-07-28 00:00:00",
         "31.0",
         "1"
        ],
        [
         "27",
         "2024-07-31 00:00:00",
         "101.0",
         "1"
        ],
        [
         "28",
         "2024-08-03 00:00:00",
         "10.0",
         "1"
        ],
        [
         "29",
         "2024-08-05 00:00:00",
         "22.0",
         "1"
        ],
        [
         "30",
         "2024-08-07 00:00:00",
         "2.0",
         "1"
        ],
        [
         "31",
         "2024-08-15 00:00:00",
         "20.0",
         "1"
        ],
        [
         "32",
         "2024-08-18 00:00:00",
         "110.0",
         "1"
        ],
        [
         "33",
         "2024-08-24 00:00:00",
         "69.5",
         "2"
        ],
        [
         "34",
         "2024-08-26 00:00:00",
         "108.0",
         "1"
        ],
        [
         "35",
         "2024-09-01 00:00:00",
         "58.0",
         "1"
        ],
        [
         "36",
         "2024-09-02 00:00:00",
         "116.0",
         "1"
        ],
        [
         "37",
         "2024-09-04 00:00:00",
         "22.5",
         "2"
        ],
        [
         "38",
         "2024-09-05 00:00:00",
         "81.0",
         "1"
        ],
        [
         "39",
         "2024-09-07 00:00:00",
         "90.0",
         "1"
        ],
        [
         "40",
         "2024-09-09 00:00:00",
         "64.0",
         "2"
        ],
        [
         "41",
         "2024-09-13 00:00:00",
         "44.0",
         "1"
        ],
        [
         "42",
         "2024-09-15 00:00:00",
         "45.0",
         "1"
        ],
        [
         "43",
         "2024-09-17 00:00:00",
         "47.0",
         "1"
        ],
        [
         "44",
         "2024-10-07 00:00:00",
         "77.0",
         "2"
        ],
        [
         "45",
         "2024-10-16 00:00:00",
         "13.0",
         "1"
        ],
        [
         "46",
         "2024-10-20 00:00:00",
         "76.5",
         "2"
        ],
        [
         "47",
         "2024-10-23 00:00:00",
         "57.0",
         "1"
        ],
        [
         "48",
         "2024-10-25 00:00:00",
         "51.0",
         "1"
        ],
        [
         "49",
         "2024-10-27 00:00:00",
         "54.0",
         "1"
        ]
       ],
       "shape": {
        "columns": 3,
        "rows": 70
       }
      },
      "text/html": [
       "<div>\n",
       "<style scoped>\n",
       "    .dataframe tbody tr th:only-of-type {\n",
       "        vertical-align: middle;\n",
       "    }\n",
       "\n",
       "    .dataframe tbody tr th {\n",
       "        vertical-align: top;\n",
       "    }\n",
       "\n",
       "    .dataframe thead th {\n",
       "        text-align: right;\n",
       "    }\n",
       "</style>\n",
       "<table border=\"1\" class=\"dataframe\">\n",
       "  <thead>\n",
       "    <tr style=\"text-align: right;\">\n",
       "      <th></th>\n",
       "      <th>date</th>\n",
       "      <th>avg_duration</th>\n",
       "      <th>unique_users</th>\n",
       "    </tr>\n",
       "  </thead>\n",
       "  <tbody>\n",
       "    <tr>\n",
       "      <th>0</th>\n",
       "      <td>2024-03-13</td>\n",
       "      <td>4.0</td>\n",
       "      <td>1</td>\n",
       "    </tr>\n",
       "    <tr>\n",
       "      <th>1</th>\n",
       "      <td>2024-03-14</td>\n",
       "      <td>87.0</td>\n",
       "      <td>1</td>\n",
       "    </tr>\n",
       "    <tr>\n",
       "      <th>2</th>\n",
       "      <td>2024-03-15</td>\n",
       "      <td>106.0</td>\n",
       "      <td>1</td>\n",
       "    </tr>\n",
       "    <tr>\n",
       "      <th>3</th>\n",
       "      <td>2024-03-18</td>\n",
       "      <td>109.0</td>\n",
       "      <td>1</td>\n",
       "    </tr>\n",
       "    <tr>\n",
       "      <th>4</th>\n",
       "      <td>2024-03-21</td>\n",
       "      <td>33.0</td>\n",
       "      <td>1</td>\n",
       "    </tr>\n",
       "    <tr>\n",
       "      <th>...</th>\n",
       "      <td>...</td>\n",
       "      <td>...</td>\n",
       "      <td>...</td>\n",
       "    </tr>\n",
       "    <tr>\n",
       "      <th>65</th>\n",
       "      <td>2024-12-07</td>\n",
       "      <td>19.0</td>\n",
       "      <td>1</td>\n",
       "    </tr>\n",
       "    <tr>\n",
       "      <th>66</th>\n",
       "      <td>2024-12-10</td>\n",
       "      <td>92.0</td>\n",
       "      <td>1</td>\n",
       "    </tr>\n",
       "    <tr>\n",
       "      <th>67</th>\n",
       "      <td>2024-12-12</td>\n",
       "      <td>67.0</td>\n",
       "      <td>1</td>\n",
       "    </tr>\n",
       "    <tr>\n",
       "      <th>68</th>\n",
       "      <td>2024-12-28</td>\n",
       "      <td>50.0</td>\n",
       "      <td>1</td>\n",
       "    </tr>\n",
       "    <tr>\n",
       "      <th>69</th>\n",
       "      <td>2024-12-29</td>\n",
       "      <td>119.0</td>\n",
       "      <td>1</td>\n",
       "    </tr>\n",
       "  </tbody>\n",
       "</table>\n",
       "<p>70 rows × 3 columns</p>\n",
       "</div>"
      ],
      "text/plain": [
       "         date  avg_duration  unique_users\n",
       "0  2024-03-13           4.0             1\n",
       "1  2024-03-14          87.0             1\n",
       "2  2024-03-15         106.0             1\n",
       "3  2024-03-18         109.0             1\n",
       "4  2024-03-21          33.0             1\n",
       "..        ...           ...           ...\n",
       "65 2024-12-07          19.0             1\n",
       "66 2024-12-10          92.0             1\n",
       "67 2024-12-12          67.0             1\n",
       "68 2024-12-28          50.0             1\n",
       "69 2024-12-29         119.0             1\n",
       "\n",
       "[70 rows x 3 columns]"
      ]
     },
     "execution_count": 20,
     "metadata": {},
     "output_type": "execute_result"
    }
   ],
   "source": [
    "daily_status = df.groupby('date').agg(\n",
    "    avg_duration=('session_duration', 'mean'),\n",
    "    unique_users=('user_id', 'nunique')\n",
    ").reset_index()\n",
    "daily_status"
   ]
  },
  {
   "cell_type": "code",
   "execution_count": 22,
   "id": "e46cb751",
   "metadata": {},
   "outputs": [
    {
     "data": {
      "text/plain": [
       "date            2024-06-06 00:00:00\n",
       "avg_duration                   52.0\n",
       "unique_users                      2\n",
       "Name: 16, dtype: object"
      ]
     },
     "execution_count": 22,
     "metadata": {},
     "output_type": "execute_result"
    }
   ],
   "source": [
    "peak_day = daily_status.loc[daily_status['unique_users'].idxmax()]\n",
    "peak_day"
   ]
  },
  {
   "cell_type": "code",
   "execution_count": 28,
   "id": "9fc20b6b",
   "metadata": {},
   "outputs": [
    {
     "data": {
      "text/plain": [
       "np.int64(44)"
      ]
     },
     "execution_count": 28,
     "metadata": {},
     "output_type": "execute_result"
    }
   ],
   "source": [
    "a = daily_status[(daily_status['unique_users'] == daily_status['unique_users'].max())]\n",
    "b = a['avg_duration'].idxmax()\n",
    "b"
   ]
  },
  {
   "cell_type": "code",
   "execution_count": 31,
   "id": "9ca62df5",
   "metadata": {},
   "outputs": [
    {
     "data": {
      "text/plain": [
       "date            2024-10-07 00:00:00\n",
       "avg_duration                   77.0\n",
       "unique_users                      2\n",
       "Name: 44, dtype: object"
      ]
     },
     "execution_count": 31,
     "metadata": {},
     "output_type": "execute_result"
    }
   ],
   "source": [
    "day = daily_status.loc[a['avg_duration'].idxmax()]\n",
    "day"
   ]
  },
  {
   "cell_type": "code",
   "execution_count": 34,
   "id": "917153ae",
   "metadata": {},
   "outputs": [],
   "source": [
    "import matplotlib.pyplot as plt\n",
    "import matplotlib.dates as mdates"
   ]
  },
  {
   "cell_type": "code",
   "execution_count": null,
   "id": "386f398c",
   "metadata": {},
   "outputs": [
    {
     "data": {
      "image/png": "[encoded data removed]",
      "text/plain": [
       "<Figure size 1200x600 with 2 Axes>"
      ]
     },
     "metadata": {},
     "output_type": "display_data"
    },
    {
     "data": {
      "image/png": "[encoded data removed]",
      "text/plain": [
       "<Figure size 640x480 with 1 Axes>"
      ]
     },
     "metadata": {},
     "output_type": "display_data"
    }
   ],
   "source": [
    "fig, ax1 = plt.subplots(figsize=(12, 6))\n",
    "ax1.plot(daily_status['date'], daily_status['avg_duration'],\n",
    "         color='tab:blue', label='Mean duration min', marker='o')\n",
    "ax1.set_xlabel('Date')\n",
    "ax1.set_ylabel('min', color='tab:blue')\n",
    "ax1.tick_params(axis='y', labelcolor='tab:blue')\n",
    "\n",
    "\n",
    "ax1 .axvline(day['date'], color='red', linestyle='--', alpha=0.3)\n",
    "ax1.annotate(f\"Пик: {day['unique_users']} пользователей\",\n",
    "             xy=(day['date'], day['avg_duration']),\n",
    "             xytext=(10, 10), textcoords='offset points',\n",
    "             bbox=dict(boxstyle='round,pad=0.5', fc='yellow', alpha=0.5))\n",
    "\n",
    "\n",
    "\n",
    "plt.title('Анализ пользовательской активности по дням', pad=20)\n",
    "plt.grid(True, linestyle='--', alpha=0.3)\n",
    "plt.tight_layout()\n",
    "\n",
    "plt.show()"
   ]
  },
  {
   "cell_type": "code",
   "execution_count": null,
   "id": "98d88c21",
   "metadata": {},
   "outputs": [
    {
     "data": {
      "image/png": "[encoded data removed]",
      "text/plain": [
       "<Figure size 640x480 with 1 Axes>"
      ]
     },
     "metadata": {},
     "output_type": "display_data"
    }
   ],
   "source": [
    "ax2 = ax1.twinx()\n",
    "ax2.bar(daily_status['date'], daily_status['unique_users'],\n",
    "        color='tab:green', alpha=0.3, label='Активные пользователи')\n",
    "ax2.set_ylabel('Количество пользователей', color='tab:green')\n",
    "ax2.tick_params(axis='y', labelcolor='tab:green')\n",
    "\n",
    "ax1.xaxis.set_major_formatter(mdates.DateFormatter('%d %b'))\n",
    "fig.autofmt_xdate()  # Наклон подписей дат\n",
    "\n",
    "# Легенда и заголовок\n",
    "lines1, labels1 = ax1.get_legend_handles_labels()\n",
    "lines2, labels2 = ax2.get_legend_handles_labels()\n",
    "ax1.legend(lines1 + lines2, labels1 + labels2, loc='upper left')\n",
    "\n",
    "plt.title('Активность пользователей за последний месяц')\n",
    "plt.tight_layout()\n",
    "plt.show()"
   ]
  }
 ],
 "metadata": {
  "kernelspec": {
   "display_name": "venv",
   "language": "python",
   "name": "python3"
  },
  "language_info": {
   "codemirror_mode": {
    "name": "ipython",
    "version": 3
   },
   "file_extension": ".py",
   "mimetype": "text/x-python",
   "name": "python",
   "nbconvert_exporter": "python",
   "pygments_lexer": "ipython3",
   "version": "3.12.7"
  }
 },
 "nbformat": 4,
 "nbformat_minor": 5
}
