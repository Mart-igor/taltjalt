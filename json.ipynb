{
 "cells": [
  {
   "cell_type": "code",
   "execution_count": 3,
   "id": "2d081132",
   "metadata": {},
   "outputs": [],
   "source": [
    "import json\n",
    "import sys"
   ]
  },
  {
   "cell_type": "code",
   "execution_count": 10,
   "id": "c5b3a5ab",
   "metadata": {},
   "outputs": [],
   "source": [
    "import json\n",
    "\n",
    "data = {\n",
    "    \"name\": \"Alice\",\n",
    "    \"age\": 25,\n",
    "    \"is_student\": True,\n",
    "    \"courses\": [\"Math\", \"Physics\"]\n",
    "}\n",
    "\n",
    "json_str = json.dumps(data, indent=4)  # indent для красивого форматирования\n",
    "with open('out.txt', 'w', encoding='UTF-8') as file_out:\n",
    "    file_out.write(json_str)"
   ]
  },
  {
   "cell_type": "code",
   "execution_count": 8,
   "id": "58fcb6bc",
   "metadata": {},
   "outputs": [
    {
     "name": "stdout",
     "output_type": "stream",
     "text": [
      "{'name': 'Alice', 'age': 25, 'is_student': True, 'courses': ['Math', 'Physics']}\n"
     ]
    }
   ],
   "source": [
    "with open('out.txt', 'r', encoding=\"UTF-8\") as file_in:\n",
    "    data = file_in.read()\n",
    "\n",
    "python_dict = json.loads(data)\n",
    "print(python_dict)"
   ]
  },
  {
   "cell_type": "code",
   "execution_count": null,
   "id": "318ebe94",
   "metadata": {},
   "outputs": [],
   "source": [
    "# sort_keys — сортировка ключей в алфавитном порядке.\n",
    "\n",
    "# ensure_ascii — экранирование не-ASCII символов (по умолчанию True)."
   ]
  },
  {
   "cell_type": "code",
   "execution_count": null,
   "id": "6cb0aefb",
   "metadata": {},
   "outputs": [],
   "source": [
    "# Если нужно сериализовать объекты, не поддерживаемые JSON (например, datetime), можно использовать параметр default:\n",
    "from datetime import datetime\n",
    "\n",
    "def custom_serializer(obj):\n",
    "    if isinstance(obj, datetime):\n",
    "        return obj.isoformat()\n",
    "    raise TypeError(\"Type not serializable\")\n",
    "\n",
    "data = {\"event\": \"meeting\", \"time\": datetime.now()}\n",
    "\n",
    "json_str = json.dumps(data, default=custom_serializer)\n",
    "print(json_str) "
   ]
  },
  {
   "cell_type": "code",
   "execution_count": null,
   "id": "5922d628",
   "metadata": {},
   "outputs": [],
   "source": [
    "# 5. Обработка ошибок\n",
    "# При работе с JSON могут возникать ошибки:\n",
    "\n",
    "# json.JSONDecodeError — если JSON некорректен.\n",
    "\n",
    "# TypeError — если объект не сериализуем.\n",
    "try:\n",
    "    data = json.loads('{\"name\": \"Alice\",}')\n",
    "except json.JSONDecodeError as e:\n",
    "    print(f\"Ошибка в JSON: {e}\")"
   ]
  },
  {
   "cell_type": "code",
   "execution_count": null,
   "id": "faeebae3",
   "metadata": {},
   "outputs": [],
   "source": [
    "# Если json недостаточно:\n",
    "\n",
    "# orjson — быстрее json, поддерживает datetime и UUID.\n",
    "\n",
    "# ujson — более быстрый аналог стандартного json.\n",
    "\n",
    "# simplejson — обратно совместим с json, но с дополнительными возможностями"
   ]
  }
 ],
 "metadata": {
  "kernelspec": {
   "display_name": "venv",
   "language": "python",
   "name": "python3"
  },
  "language_info": {
   "codemirror_mode": {
    "name": "ipython",
    "version": 3
   },
   "file_extension": ".py",
   "mimetype": "text/x-python",
   "name": "python",
   "nbconvert_exporter": "python",
   "pygments_lexer": "ipython3",
   "version": "3.12.7"
  }
 },
 "nbformat": 4,
 "nbformat_minor": 5
}
