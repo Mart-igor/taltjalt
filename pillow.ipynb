{
 "cells": [
  {
   "cell_type": "code",
   "execution_count": 5,
   "id": "91fd10af",
   "metadata": {},
   "outputs": [],
   "source": [
    "from PIL import Image"
   ]
  },
  {
   "cell_type": "code",
   "execution_count": null,
   "id": "12a42af0",
   "metadata": {},
   "outputs": [],
   "source": [
    "img = Image.open('')\n",
    "img.show()\n",
    "\n",
    "img.save('image.png')"
   ]
  },
  {
   "cell_type": "code",
   "execution_count": null,
   "id": "9e4a1295",
   "metadata": {},
   "outputs": [],
   "source": [
    "print(f\"Формат: {img.format}\")  # JPEG, PNG и т.д.\n",
    "print(f\"Размер: {img.size}\")     # (ширина, высота)\n",
    "print(f\"Режим: {img.mode}\")  "
   ]
  },
  {
   "cell_type": "code",
   "execution_count": null,
   "id": "b071bd1d",
   "metadata": {},
   "outputs": [],
   "source": [
    "resized_img = img.resize((300, 200))  # Новый размер (ширина, высота)\n",
    "resized_img.save(\"resized.jpg\")"
   ]
  },
  {
   "cell_type": "code",
   "execution_count": null,
   "id": "83f1b328",
   "metadata": {},
   "outputs": [],
   "source": [
    "rotated_img = img.rotate(45)  # Поворот на 45 градусов\n",
    "rotated_img.save(\"rotated.jpg\")"
   ]
  }
 ],
 "metadata": {
  "kernelspec": {
   "display_name": "venv",
   "language": "python",
   "name": "python3"
  },
  "language_info": {
   "codemirror_mode": {
    "name": "ipython",
    "version": 3
   },
   "file_extension": ".py",
   "mimetype": "text/x-python",
   "name": "python",
   "nbconvert_exporter": "python",
   "pygments_lexer": "ipython3",
   "version": "3.12.7"
  }
 },
 "nbformat": 4,
 "nbformat_minor": 5
}
