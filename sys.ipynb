{
 "cells": [
  {
   "cell_type": "code",
   "execution_count": null,
   "id": "be9fd4e2",
   "metadata": {},
   "outputs": [],
   "source": [
    "# Когда использовать sys?\n",
    "# Для работы с аргументами командной строки (sys.argv).\n",
    "\n",
    "# Для управления путями импорта (sys.path).\n",
    "\n",
    "# Для перенаправления ввода/вывода (sys.stdout, sys.stderr).\n",
    "\n",
    "# Для получения информации о системе (sys.platform, sys.version)."
   ]
  },
  {
   "cell_type": "code",
   "execution_count": 1,
   "id": "116510ed",
   "metadata": {},
   "outputs": [],
   "source": [
    "import sys"
   ]
  },
  {
   "cell_type": "code",
   "execution_count": 3,
   "id": "e0fbe375",
   "metadata": {},
   "outputs": [
    {
     "data": {
      "text/plain": [
       "['d:\\\\projects\\\\git_test\\\\venv\\\\Lib\\\\site-packages\\\\ipykernel_launcher.py',\n",
       " '--f=c:\\\\Users\\\\Computer\\\\AppData\\\\Roaming\\\\jupyter\\\\runtime\\\\kernel-v32b89250cec802a3ed37bd2e0416ed74b644fe0c4.json']"
      ]
     },
     "execution_count": 3,
     "metadata": {},
     "output_type": "execute_result"
    }
   ],
   "source": [
    "sys.argv"
   ]
  },
  {
   "cell_type": "code",
   "execution_count": null,
   "id": "67f57f19",
   "metadata": {},
   "outputs": [],
   "source": [
    "if error_occurred:\n",
    "    sys.exit(1)"
   ]
  },
  {
   "cell_type": "code",
   "execution_count": null,
   "id": "56ba00f0",
   "metadata": {},
   "outputs": [],
   "source": [
    "#  4. sys.stdin, sys.stdout, sys.stderr – стандартные потоки\n",
    "# sys.stdin – ввод (по умолчанию клавиатура)\n",
    "\n",
    "# sys.stdout – вывод (по умолчанию консоль)\n",
    "\n",
    "# sys.stderr – поток ошибок\n",
    "sys.stdout = open(\"output.txt\", \"w\")  # Теперь print() будет писать в файл"
   ]
  },
  {
   "cell_type": "code",
   "execution_count": null,
   "id": "c6ec5447",
   "metadata": {},
   "outputs": [],
   "source": [
    "sys.platform\n",
    "sys.version\n",
    "x = [1, 2, 3]\n",
    "sys.getsizeof(x)\n",
    "sys.exc_info()\n",
    "sys.modules"
   ]
  }
 ],
 "metadata": {
  "kernelspec": {
   "display_name": "venv",
   "language": "python",
   "name": "python3"
  },
  "language_info": {
   "codemirror_mode": {
    "name": "ipython",
    "version": 3
   },
   "file_extension": ".py",
   "mimetype": "text/x-python",
   "name": "python",
   "nbconvert_exporter": "python",
   "pygments_lexer": "ipython3",
   "version": "3.12.7"
  }
 },
 "nbformat": 4,
 "nbformat_minor": 5
}
