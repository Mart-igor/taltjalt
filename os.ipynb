{
 "cells": [
  {
   "cell_type": "code",
   "execution_count": null,
   "id": "a1da010d",
   "metadata": {},
   "outputs": [],
   "source": [
    "# #  Когда использовать os?\n",
    "# Для работы с файлами и директориями (os.listdir, os.mkdir, os.remove).\n",
    "\n",
    "# Для управления путями (os.path.join, os.path.abspath).\n",
    "\n",
    "# Для работы с переменными окружения (os.environ, os.getenv).\n",
    "\n",
    "# Для выполнения системных команд (os.system, os.popen).\n",
    "\n",
    "# Для получения информации о системе (os.name, os.cpu_count)."
   ]
  },
  {
   "cell_type": "code",
   "execution_count": 3,
   "id": "4c62aa9e",
   "metadata": {},
   "outputs": [],
   "source": [
    "import os"
   ]
  },
  {
   "cell_type": "code",
   "execution_count": 4,
   "id": "22042703",
   "metadata": {},
   "outputs": [
    {
     "data": {
      "text/plain": [
       "'d:\\\\projects\\\\git_test'"
      ]
     },
     "execution_count": 4,
     "metadata": {},
     "output_type": "execute_result"
    }
   ],
   "source": [
    "os.getcwd()"
   ]
  },
  {
   "cell_type": "code",
   "execution_count": null,
   "id": "92122870",
   "metadata": {},
   "outputs": [],
   "source": [
    "os.listdir()\n",
    "os.remove()\n",
    "os.rename()\n",
    "os.mkdir()\n",
    "# os.path – подмодуль для работы с путями\n",
    "os.path.exists('file.txt')\n",
    "os.path.abspath('')"
   ]
  },
  {
   "cell_type": "code",
   "execution_count": null,
   "id": "01da6c37",
   "metadata": {},
   "outputs": [
    {
     "name": "stdout",
     "output_type": "stream",
     "text": [
      "None\n"
     ]
    },
    {
     "name": "stderr",
     "output_type": "stream",
     "text": [
      "<>:1: SyntaxWarning: invalid escape sequence '\\p'\n",
      "<>:1: SyntaxWarning: invalid escape sequence '\\p'\n",
      "C:\\Users\\Computer\\AppData\\Local\\Temp\\ipykernel_2404\\491721869.py:1: SyntaxWarning: invalid escape sequence '\\p'\n",
      "  print(os.getenv(key='D:\\projects\\git_test\\os.ipynb'))\n"
     ]
    }
   ],
   "source": [
    "# 2. Переменные окружения\n",
    "print(os.getenv(key='D:\\projects\\git_test\\os.ipynb'))"
   ]
  },
  {
   "cell_type": "code",
   "execution_count": null,
   "id": "adeb44ed",
   "metadata": {},
   "outputs": [
    {
     "data": {
      "text/plain": [
       "1"
      ]
     },
     "execution_count": 9,
     "metadata": {},
     "output_type": "execute_result"
    }
   ],
   "source": [
    "# 3. Работа с процессами\n",
    "os.system(\"ls -l\")\n",
    "os.startfile(\"document.pdf\")\n",
    "os.name\n",
    "os.uname()\n",
    "os.cpu_count()\n",
    "os.getpid()"
   ]
  },
  {
   "cell_type": "code",
   "execution_count": null,
   "id": "d71371c9",
   "metadata": {},
   "outputs": [
    {
     "data": {
      "text/plain": [
       "2404"
      ]
     },
     "execution_count": 10,
     "metadata": {},
     "output_type": "execute_result"
    }
   ],
   "source": [
    "# 5. Работа с правами и пользователями\n",
    "os.getuid()"
   ]
  },
  {
   "cell_type": "code",
   "execution_count": null,
   "id": "27300738",
   "metadata": {},
   "outputs": [],
   "source": [
    "os.walk(path) # – рекурсивный обход директорий\n",
    "os.path.getsize(filename)"
   ]
  }
 ],
 "metadata": {
  "kernelspec": {
   "display_name": "venv",
   "language": "python",
   "name": "python3"
  },
  "language_info": {
   "codemirror_mode": {
    "name": "ipython",
    "version": 3
   },
   "file_extension": ".py",
   "mimetype": "text/x-python",
   "name": "python",
   "nbconvert_exporter": "python",
   "pygments_lexer": "ipython3",
   "version": "3.12.7"
  }
 },
 "nbformat": 4,
 "nbformat_minor": 5
}
